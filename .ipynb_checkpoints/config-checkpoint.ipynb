{
 "cells": [
  {
   "cell_type": "code",
   "execution_count": null,
   "id": "82ed6f97",
   "metadata": {},
   "outputs": [],
   "source": [
    "import os\n",
    "\n",
    "PORT_NUMBER = 8080\n",
    "\n",
    "# MONGODB_PORT_NUMBER = 27017\n",
    "# MONGODB_DATABASE_NAME = 'project_db'\n",
    "MODEL_FILE_PATH = r'static\\models\\linear_regression.pkl'\n",
    "\n",
    "JSON_FILE_PATH = r'static\\json_files\\proj_data.json'"
   ]
  }
 ],
 "metadata": {
  "kernelspec": {
   "display_name": "Python 3 (ipykernel)",
   "language": "python",
   "name": "python3"
  },
  "language_info": {
   "codemirror_mode": {
    "name": "ipython",
    "version": 3
   },
   "file_extension": ".py",
   "mimetype": "text/x-python",
   "name": "python",
   "nbconvert_exporter": "python",
   "pygments_lexer": "ipython3",
   "version": "3.9.13"
  }
 },
 "nbformat": 4,
 "nbformat_minor": 5
}
